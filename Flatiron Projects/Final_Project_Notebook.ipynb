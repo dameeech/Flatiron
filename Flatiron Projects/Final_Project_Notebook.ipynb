{
 "cells": [
  {
   "cell_type": "markdown",
   "metadata": {},
   "source": [
    "#                         Boozapalooza - Bar and Cocktail Delivery"
   ]
  },
  {
   "cell_type": "markdown",
   "metadata": {},
   "source": [
    "Authors: Dimitry Belozersky, Theron Glynn"
   ]
  },
  {
   "cell_type": "markdown",
   "metadata": {},
   "source": [
    "#                                                   Overview"
   ]
  },
  {
   "cell_type": "markdown",
   "metadata": {},
   "source": [
    "This project will determine whether Boston or Denver are the ideal city for the opening of Boozapalooza - our upscale bar and cocktail delivery service. Using only the Yelp API we are able to draw concrete conclusions about the best place to open our new business."
   ]
  },
  {
   "cell_type": "markdown",
   "metadata": {},
   "source": [
    "#                                            Business Problem"
   ]
  },
  {
   "cell_type": "markdown",
   "metadata": {},
   "source": [
    "Is Boston or Denver the best place to open an upscale bar and cocktail delivery service.\n",
    "Which city has more total bars?\n",
    "Which city has more bars that deliver?\n",
    "Is the ability to deliver reflected in a bar's raiting? \n",
    "    - Are bars that deliver rated more highly then ones that don't?\n",
    "Which city has more bars in a concentrated area?\n",
    "    - A potential pain point for customers is having to travel to get to a bar.\n",
    "Which city has more expensive bars to reflect our potential consumers?\n",
    "    - We are a high-end delivery service so the more expensive bars in a city, the more potential customers we have!"
   ]
  },
  {
   "cell_type": "markdown",
   "metadata": {},
   "source": [
    "#                                           Data Understanding"
   ]
  },
  {
   "cell_type": "markdown",
   "metadata": {},
   "source": [
    "We gathered data from Boston and Denver using the Yelp API. By pulling catagories for Zip Code, Buisness Rating, Delivery Availability, Review Count, and Price for Boston and Denver we were able to perform a regressive analasis to determine the best city to open our Delivery Bar. We wanted to break down the total concentraiton of bars by Zip Code and use the Business Ratings and Review Counts to justify our ultimate city decision. In addition we wanted to use Price to determine the amount of potential customers for our high-end bar by finding the areas with the most expensive bars."
   ]
  },
  {
   "cell_type": "code",
   "execution_count": null,
   "metadata": {},
   "outputs": [],
   "source": [
    "# Initial import statements\n",
    "import requests\n",
    "import json\n",
    "import sys\n",
    "import pandas as pd\n",
    "import numpy as np\n",
    "from matplotlib import pyplot as plt\n",
    "from matplotlib.ticker import FormatStrFormatter\n",
    "import matplotlib.patches as mpatches"
   ]
  },
  {
   "cell_type": "markdown",
   "metadata": {},
   "source": [
    "# Boston Data Set"
   ]
  },
  {
   "cell_type": "code",
   "execution_count": null,
   "metadata": {},
   "outputs": [],
   "source": [
    "pd.read_csv('/Data/Final_Boston_Data.csv')"
   ]
  },
  {
   "cell_type": "markdown",
   "metadata": {},
   "source": [
    "# Denver Data Set"
   ]
  },
  {
   "cell_type": "code",
   "execution_count": null,
   "metadata": {},
   "outputs": [],
   "source": [
    "pd.read_csv('/Data/Final_Denver_Data.csv')"
   ]
  },
  {
   "cell_type": "markdown",
   "metadata": {},
   "source": [
    "# Data Preperation"
   ]
  },
  {
   "cell_type": "markdown",
   "metadata": {},
   "source": [
    "Since our initial API call function was able to clean most of the data as we pulled it, we really only needed to use .group_by() and .sort() functions in order to take a look at specific columns and averages."
   ]
  },
  {
   "cell_type": "code",
   "execution_count": null,
   "metadata": {},
   "outputs": [],
   "source": [
    "Denver_data = pd.read_csv('/Data/Bars_Denver.csv')\n",
    "Boston_data = pd.read_csv('/Data/Bars_Boston.csv')\n",
    "Denverft    = Denver_data.groupby(['Delivery'])['Buisness Rating'].mean().loc[False]\n",
    "Denverrt    = Denver_data.groupby(['Delivery'])['Buisness Rating'].mean().loc[True]\n",
    "DTF         = [Denverrt,Denverft]"
   ]
  },
  {
   "cell_type": "markdown",
   "metadata": {},
   "source": [
    "# Data Modeling"
   ]
  },
  {
   "cell_type": "markdown",
   "metadata": {},
   "source": [
    "For our first graph we wanted to see the average reviews for bars in both cities and if they were related to the ability of those bars to deliver."
   ]
  },
  {
   "cell_type": "code",
   "execution_count": null,
   "metadata": {},
   "outputs": [],
   "source": [
    "fig, ax   = plt.subplots()\n",
    "labels    = ['Boston','Denver']\n",
    "z         = np.arange(len(DTF))\n",
    "bar_width = .2\n",
    "rects1    = ax.bar(z,Boston_data.groupby(['Delivery'])['Buisness Rating'].mean(), \n",
    "                width = bar_width, label = \"Don't Deliver\", color ='r')\n",
    "rects2    = ax.bar(z + bar_width, Denver_data.groupby(['Delivery'])['Buisness Rating'].mean(), \n",
    "                width = bar_width, label = 'Deliver', color ='b')\n",
    "ax.set_ylabel('Average Ratings')\n",
    "ax.set_title('Average Ratings For Bars Based On Delivery Availability')\n",
    "ax.set_xticks(z + bar_width / 2)\n",
    "ax.set_xticklabels(labels)\n",
    "ax.legend()\n",
    "ax.spines['top'].set_visible(False)\n",
    "ax.spines['right'].set_visible(False)\n",
    "ax.spines['left'].set_visible(False)\n",
    "ax.spines['bottom'].set_color('#DDDDDD')\n",
    "ax.tick_params(bottom=False, left=False)\n",
    "ax.set_axisbelow(True)\n",
    "ax.yaxis.grid(True, color='#EEEEEE')\n",
    "ax.xaxis.grid(False)\n",
    "ax.set_xlabel('Bars In Boston and Denver', labelpad=15)\n",
    "fig.tight_layout()\n",
    "plt.show()"
   ]
  },
  {
   "cell_type": "markdown",
   "metadata": {},
   "source": [
    "Even though we were only able to get a small amount of insight from the above graph we still noticed the trend that bars that deliver tend to be rated higher by consumers which helped re-enforce the merits of our business idea.\n",
    "\n",
    "Next we decided to see if both cities had an even distribution of bars and were pleased to discover that Detriot seemed to concentrate more of their bars into smaller areas."
   ]
  },
  {
   "cell_type": "code",
   "execution_count": null,
   "metadata": {},
   "outputs": [],
   "source": [
    "list1      = Boston_data['Zip Code'].value_counts().head().tolist()\n",
    "list2      = Denver_data['Zip Code'].value_counts().head().tolist()\n",
    "Amounts    = list1 + list2\n",
    "fig, ax    = plt.subplots(figsize=(20,10))\n",
    "my_colors  = list('rrrrrbbbbb')\n",
    "ax.bar(['02116','02210','02128','2139','2113',\n",
    "        '80202','80211','80205','80203','80206'],\n",
    "        Amounts,color=my_colors)\n",
    "ax.set_ylabel('Amount of Bars', fontsize = 'x-large')\n",
    "ax.set_xlabel('Zip Codes', fontsize = 'x-large')\n",
    "ax.set_title('Distribution Of Bars In Each City By Top 5 Zip Codes', fontsize = 'xx-large')\n",
    "red_patch  = mpatches.Patch(color='red', label = 'Boston Zip Codes')\n",
    "blue_patch = mpatches.Patch(color='blue', label = 'Denver Zip Codes')\n",
    "plt.legend(handles=[red_patch,blue_patch],fontsize = 'x-large')\n",
    "plt.show()"
   ]
  },
  {
   "cell_type": "markdown",
   "metadata": {},
   "source": [
    "This was our first insight of real value since it showed that Detriot would have a greater potential to expand our consumer base because people in Detroit have to travel to specific areas to find quality cocktails, a service we are ready to provide by coming to them instead.\n",
    "\n",
    "We wanted to test our theory that the concentration of bars in those top 5 zip codes were catering to our potential afluent and picky customer base. To do that we made a graph representing the relationship between the average of all ratings and the total amount of reviews for the bars in those zip codes."
   ]
  },
  {
   "cell_type": "code",
   "execution_count": null,
   "metadata": {},
   "outputs": [],
   "source": [
    "fig, ax = plt.subplots(figsize=(10,10))\n",
    "y       = [3.870967741935484,\n",
    "           3.9242424242424243,\n",
    "           3.977272727272727,\n",
    "           3.9545454545454546,\n",
    "           4.011363636363637]\n",
    "x       = [37774, 12758, 13359, 12502, 20480]\n",
    "x,y     = zip(*sorted(zip(x,y)))\n",
    "\n",
    "ax.annotate('  80206',(x[0],y[0]),ha = 'left',fontsize  = 'x-large')\n",
    "ax.annotate('  80203',(x[1],y[1]),ha = 'left',fontsize  = 'x-large')\n",
    "ax.annotate('  80205',(x[2],y[2]),ha = 'left',fontsize  = 'x-large')\n",
    "ax.annotate('  80211',(x[3],y[3]),ha = 'left',fontsize  = 'x-large')\n",
    "ax.annotate('80202  ',(x[4],y[4]),ha = 'right',fontsize = 'x-large')\n",
    "ax.plot(x,y,marker='o',color='r')\n",
    "\n",
    "ax.set_xlabel('Amount of Reviews',fontsize = 'xx-large')\n",
    "ax.set_ylabel('Rating Average',fontsize = 'xx-large')\n",
    "ax.set_title('Relation Of Reviews To Rating Average By Zipcode',fontsize = 'xx-large')\n",
    "plt.show()"
   ]
  },
  {
   "cell_type": "markdown",
   "metadata": {},
   "source": [
    "We found that the zipcode with largest amount of bars had the lowest average ratings. This shows us that even in the most crowded space we have room to grow due to our quality products. \n",
    "\n",
    "Finally we wanted to see a breakdown of categories within the bar space to get insight on potential ways in which we can differentiate ourselves from the competition."
   ]
  },
  {
   "cell_type": "code",
   "execution_count": null,
   "metadata": {},
   "outputs": [],
   "source": [
    "Denver_data.groupby('Categories')['Zip Code'].count().nlargest()\n",
    "fig, ax   = plt.subplots(figsize=(20,10))\n",
    "my_colors = list('rbgcy')\n",
    "\n",
    "ax.bar(['Bars','New American','Mexican','trade american','italian',], \n",
    "       Denver_data.groupby('Categories')['Zip Code'].count().nlargest(),color=my_colors)\n",
    "ax.set_ylabel('Number of Bars', fontsize = 'xx-large')\n",
    "ax.set_xlabel('Type of Bar',fontsize = 'xx-large')\n",
    "ax.set_title('Most Frequent Types Of Bars',fontsize = 'xx-large')\n",
    "plt.show()"
   ]
  },
  {
   "cell_type": "markdown",
   "metadata": {},
   "source": [
    "We found that while the biggest category was Bars, the rest of the most frequant categories were mostly related to restaurants and food. Building on this knowledge we are able to draw the conclusion that by using cocktails and cocktail delivery as our categories we would stand out from our competition as well as make it easy to find us if the consumer searches for those terms."
   ]
  },
  {
   "cell_type": "markdown",
   "metadata": {},
   "source": [
    "#                                       Evaluation and Conclusion"
   ]
  },
  {
   "cell_type": "markdown",
   "metadata": {},
   "source": [
    "After some initial trepidation about our ability to draw real insights from such a limited data set we were pleasntly surprised at how much we were able to gather about our potential future business site. \n",
    "\n",
    "We determined not only the city that we want to start our business in but were able to narrow it down to a few potential zip codes.\n",
    "\n",
    "Given more time it would be great to bring in Census data in order to further narrow down our ideal neighborhood based on income level to have a fuller picture of our potential consumer base."
   ]
  }
 ],
 "metadata": {
  "kernelspec": {
   "display_name": "Python 3",
   "language": "python",
   "name": "python3"
  },
  "language_info": {
   "codemirror_mode": {
    "name": "ipython",
    "version": 3
   },
   "file_extension": ".py",
   "mimetype": "text/x-python",
   "name": "python",
   "nbconvert_exporter": "python",
   "pygments_lexer": "ipython3",
   "version": "3.8.5"
  }
 },
 "nbformat": 4,
 "nbformat_minor": 4
}
