{
 "cells": [
  {
   "cell_type": "code",
   "execution_count": 1,
   "metadata": {},
   "outputs": [],
   "source": [
    "import requests\n",
    "import json\n",
    "import sys\n",
    "import pandas as pd\n",
    "import numpy as np\n",
    "\n",
    "from  keys  import  client_id, api_key\n",
    "#import Yelp_Helper_Functions as yf"
   ]
  },
  {
   "cell_type": "code",
   "execution_count": 2,
   "metadata": {},
   "outputs": [],
   "source": [
    "url        = 'https://api.yelp.com/v3/businesses/search'\n",
    "headers    = {\n",
    "             'Authorization': 'Bearer {}'.format(api_key),\n",
    "             }\n",
    "term       = 'bars'\n",
    "location   = 'Denver'\n",
    "categories = 'restaurants'\n",
    "url_params = {\n",
    "                \"term\"       : term.replace(' ', '+'),\n",
    "                \"location\"   : location.replace(' ', '+'),\n",
    "                \"categories\" : categories,\n",
    "                \"limit\"      : 50,\n",
    "                \"offset\"     : 0\n",
    "              }\n",
    "response   = requests.get(url, headers=headers, params=url_params)"
   ]
  },
  {
   "cell_type": "code",
   "execution_count": 3,
   "metadata": {},
   "outputs": [],
   "source": [
    "def yelp_biz_call(url_params, api_key):\n",
    "    response = requests.get(url, headers=headers, params=url_params)\n",
    "    return response.json()['businesses']"
   ]
  },
  {
   "cell_type": "code",
   "execution_count": 4,
   "metadata": {},
   "outputs": [],
   "source": [
    "def parse_biz_data(list_of_data):\n",
    "    businesses = []\n",
    "    for business in list_of_data:\n",
    "        if 'price' not in business.keys():\n",
    "            business['price'] = np.nan\n",
    "        if 'delivery' in business['transactions']:\n",
    "            business['delivery'] = True\n",
    "        else:\n",
    "            business['delivery'] = False\n",
    "        biz_tuple = (business['id'],\n",
    "                     business['name'],\n",
    "                     business['location']['zip_code'],\n",
    "                     business['rating'],\n",
    "                     business['review_count'],\n",
    "                     business['categories'][0]['alias'],\n",
    "                     business['delivery'],\n",
    "                     business['distance'],\n",
    "                     business['price']\n",
    "                    )\n",
    "        businesses.append(biz_tuple)\n",
    "    return businesses"
   ]
  },
  {
   "cell_type": "code",
   "execution_count": 5,
   "metadata": {},
   "outputs": [],
   "source": [
    "def df_save_bars_denver(yb_data, parse_data):\n",
    "    yb_data = pd.concat([yb_data, parse_data], axis='rows')  \n",
    "    yb_data.to_csv(\"Bars_Denver.csv\",\n",
    "                   mode='a', index=False, header=False)\n",
    "    return"
   ]
  },
  {
   "cell_type": "code",
   "execution_count": 6,
   "metadata": {},
   "outputs": [],
   "source": [
    "cur     = 0\n",
    "num     = 1000\n",
    "yb_data = []\n",
    "yb_data = pd.DataFrame(yb_data)\n",
    "yb_data.to_csv(\"Bars_Denver.csv\", \n",
    "               index_label=['id', 'Name', 'Zip Code', \n",
    "                            'Buisness Rating', 'Review Count',\n",
    "                            'Categories', 'Delivery', \n",
    "                            'Distance', 'Price'])\n",
    "while cur < num :\n",
    "    url_params['offset'] = cur\n",
    "    results     = yelp_call(url_params, api_key)\n",
    "    parsed_data = parse_data(results)\n",
    "    parsed_data = pd.DataFrame(parsed_data)\n",
    "    df_save(yb_data, parsed_data)\n",
    "    cur += 50"
   ]
  }
 ],
 "metadata": {
  "kernelspec": {
   "display_name": "Python 3",
   "language": "python",
   "name": "python3"
  },
  "language_info": {
   "codemirror_mode": {
    "name": "ipython",
    "version": 3
   },
   "file_extension": ".py",
   "mimetype": "text/x-python",
   "name": "python",
   "nbconvert_exporter": "python",
   "pygments_lexer": "ipython3",
   "version": "3.8.5"
  }
 },
 "nbformat": 4,
 "nbformat_minor": 4
}
