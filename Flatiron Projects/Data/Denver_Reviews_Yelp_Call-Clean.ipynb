{
 "cells": [
  {
   "cell_type": "code",
   "execution_count": null,
   "metadata": {},
   "outputs": [],
   "source": [
    "import requests\n",
    "import json\n",
    "import sys\n",
    "import pandas as pd\n",
    "import numpy as np\n",
    "\n",
    "from  keys  import  client_id, api_key\n",
    "#import Yelp_Helper_Functions as yf"
   ]
  },
  {
   "cell_type": "code",
   "execution_count": null,
   "metadata": {},
   "outputs": [],
   "source": [
    "url         = 'https://api.yelp.com/v3/businesses/{}/reviews'.format(id)\n",
    "headers     = {\n",
    "              'Authorization': 'Bearer {}'.format(api_key),\n",
    "              }\n",
    "response    = requests.get(url, headers=headers)\n",
    "df          = pd.read_csv(\"Bars_Denver.csv\")\n",
    "list_of_ids = df.id.to_list()"
   ]
  },
  {
   "cell_type": "code",
   "execution_count": null,
   "metadata": {},
   "outputs": [],
   "source": [
    "def yelp_rev_call(url):\n",
    "    response = requests.get(url, headers=headers)\n",
    "    return response.json()['reviews']"
   ]
  },
  {
   "cell_type": "code",
   "execution_count": null,
   "metadata": {},
   "outputs": [],
   "source": [
    "def parse_rev_data(list_of_data):\n",
    "    reviews = []\n",
    "    for review in list_of_data:\n",
    "        rev_tuple = (review['id'],\n",
    "                     review['text'],\n",
    "                     review['rating']\n",
    "                    )\n",
    "        reviews.append(rev_tuple)\n",
    "    return reviews"
   ]
  },
  {
   "cell_type": "code",
   "execution_count": null,
   "metadata": {},
   "outputs": [],
   "source": [
    "def df_save_rev_bars_denver(parsed_data):\n",
    "    df = pd.DataFrame(parsed_data)\n",
    "    df.to_csv(\"Bars_Denver_Reviews.csv\",\n",
    "                   mode='a', index=False, header=False)\n",
    "    return"
   ]
  },
  {
   "cell_type": "code",
   "execution_count": null,
   "metadata": {},
   "outputs": [],
   "source": [
    "yr_data   = []\n",
    "review_df = pd.DataFrame(yr_data)\n",
    "review_df.to_csv(\"Bars_Denver_Reviews.csv\", \n",
    "               index_label=['RId', 'Text', 'Rating'])\n",
    "for i in list_of_ids:\n",
    "    url           = 'https://api.yelp.com/v3/businesses/{}/reviews'.format(i)\n",
    "    call_response = yelp_rev_call(url)\n",
    "    clean_revs    = parse_data(call_response)    \n",
    "    df_save(clean_revs)"
   ]
  },
  {
   "cell_type": "code",
   "execution_count": null,
   "metadata": {},
   "outputs": [],
   "source": [
    "tri_array  = np.repeat(list_of_ids, 3, axis=0)\n",
    "tri_list   = list(tri_array)\n",
    "df_index   = pd.DataFrame(tri_list, columns = ['id'])\n",
    "df_revs    = pd.read_csv('Bars_Denver_Reviews.csv')\n",
    "final_df   = df_index.join(df_revs)\n",
    "final_df.to_csv('Denver_Bars_and_Reviews.csv', index=False)"
   ]
  },
  {
   "cell_type": "code",
   "execution_count": null,
   "metadata": {},
   "outputs": [],
   "source": [
    "df_bar_revs         = pd.read_csv(\"Denver_Bars_and_Reviews.csv\")\n",
    "df_bars             = pd.read_csv(\"Bars_Denver.csv\")\n",
    "df_bars_and_reviews = pd.merge(df_bars, df_bar_revs, how='outer')\n",
    "df_bars_and_reviews.to_csv('Final_Denver_Data.csv')"
   ]
  }
 ],
 "metadata": {
  "kernelspec": {
   "display_name": "Python 3",
   "language": "python",
   "name": "python3"
  },
  "language_info": {
   "codemirror_mode": {
    "name": "ipython",
    "version": 3
   },
   "file_extension": ".py",
   "mimetype": "text/x-python",
   "name": "python",
   "nbconvert_exporter": "python",
   "pygments_lexer": "ipython3",
   "version": "3.8.5"
  }
 },
 "nbformat": 4,
 "nbformat_minor": 4
}
