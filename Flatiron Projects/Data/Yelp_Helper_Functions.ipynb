{
 "cells": [
  {
   "cell_type": "code",
   "execution_count": null,
   "metadata": {},
   "outputs": [],
   "source": [
    "def yelp_biz_call(url_params, api_key):\n",
    "    response = requests.get(url, headers=headers, params=url_params)\n",
    "    return response.json()['businesses']"
   ]
  },
  {
   "cell_type": "code",
   "execution_count": null,
   "metadata": {},
   "outputs": [],
   "source": [
    "def yelp_rev_call(url):\n",
    "    response = requests.get(url, headers=headers)\n",
    "    return response.json()['reviews']"
   ]
  },
  {
   "cell_type": "code",
   "execution_count": null,
   "metadata": {},
   "outputs": [],
   "source": [
    "def parse_biz_data(list_of_data):\n",
    "    businesses = []\n",
    "    for business in list_of_data:\n",
    "        if 'price' not in business.keys():\n",
    "            business['price'] = np.nan\n",
    "        if 'delivery' in business['transactions']:\n",
    "            business['delivery'] = True\n",
    "        else:\n",
    "            business['delivery'] = False\n",
    "        biz_tuple = (business['id'],\n",
    "                     business['name'],\n",
    "                     business['location']['zip_code'],\n",
    "                     business['rating'],\n",
    "                     business['review_count'],\n",
    "                     business['categories'][0]['alias'],\n",
    "                     business['delivery'],\n",
    "                     business['distance'],\n",
    "                     business['price']\n",
    "                    )\n",
    "        businesses.append(biz_tuple)\n",
    "    return businesses"
   ]
  },
  {
   "cell_type": "code",
   "execution_count": null,
   "metadata": {},
   "outputs": [],
   "source": [
    "def parse_rev_data(list_of_data):\n",
    "    reviews = []\n",
    "    for review in list_of_data:\n",
    "        rev_tuple = (review['id'],\n",
    "                     review['text'],\n",
    "                     review['rating']\n",
    "                    )\n",
    "        reviews.append(rev_tuple)\n",
    "    return reviews"
   ]
  },
  {
   "cell_type": "code",
   "execution_count": null,
   "metadata": {},
   "outputs": [],
   "source": [
    "def df_save_bars_denver(yb_data, parse_data):\n",
    "    yb_data = pd.concat([yb_data, parse_data], axis='rows')  \n",
    "    yb_data.to_csv(\"Bars_Denver.csv\",\n",
    "                   mode='a', index=False, header=False)\n",
    "    return"
   ]
  },
  {
   "cell_type": "code",
   "execution_count": null,
   "metadata": {},
   "outputs": [],
   "source": [
    "def df_save_bars_boston(yb_data, parse_data):\n",
    "    yb_data = pd.concat([yb_data, parse_data], axis='rows')  \n",
    "    yb_data.to_csv(\"Bars_Boston.csv\",\n",
    "                   mode='a', index=False, header=False)\n",
    "    return"
   ]
  },
  {
   "cell_type": "code",
   "execution_count": null,
   "metadata": {},
   "outputs": [],
   "source": [
    "def df_save_rev_bars_denver(parsed_data):\n",
    "    df = pd.DataFrame(parsed_data)\n",
    "    df.to_csv(\"Bars_Denver_Reviews.csv\",\n",
    "                   mode='a', index=False, header=False)\n",
    "    return"
   ]
  },
  {
   "cell_type": "code",
   "execution_count": null,
   "metadata": {},
   "outputs": [],
   "source": [
    "def df_save_rev_bars_boston(parsed_data):\n",
    "    df = pd.DataFrame(parsed_data)\n",
    "    df.to_csv(\"Bars_Boston_Reviews.csv\",\n",
    "                   mode='a', index=False, header=False)\n",
    "    return"
   ]
  }
 ],
 "metadata": {
  "kernelspec": {
   "display_name": "Python 3",
   "language": "python",
   "name": "python3"
  },
  "language_info": {
   "codemirror_mode": {
    "name": "ipython",
    "version": 3
   },
   "file_extension": ".py",
   "mimetype": "text/x-python",
   "name": "python",
   "nbconvert_exporter": "python",
   "pygments_lexer": "ipython3",
   "version": "3.8.5"
  }
 },
 "nbformat": 4,
 "nbformat_minor": 4
}
