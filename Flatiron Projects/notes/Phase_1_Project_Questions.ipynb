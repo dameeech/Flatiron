{
 "cells": [
  {
   "cell_type": "code",
   "execution_count": null,
   "metadata": {},
   "outputs": [],
   "source": [
    "import pandas as pd\n",
    "import numpy  as np"
   ]
  },
  {
   "cell_type": "markdown",
   "metadata": {},
   "source": [
    "1. Which are the 5 most reviewed businesses in your dataset?"
   ]
  },
  {
   "cell_type": "code",
   "execution_count": null,
   "metadata": {},
   "outputs": [],
   "source": [
    "Boston_data  = pd.read_csv('/Data/Bars_Boston.csv')\n",
    "Denver_data  = pd.read_csv('/Data/Bars_Denver.csv')\n",
    "Boston_data.sort_values('Review Count',ascending=False)\n",
    "Denver_data.sort_values('Review Count',ascending=False)\n",
    "print('The 5 most reviewed bars are : Neptune Oyster, Giacomos Ristorante,Linger,Steubens Uptown,Union Oyster House')"
   ]
  },
  {
   "cell_type": "markdown",
   "metadata": {},
   "source": [
    "2. What is the highest rating recieved in your data set and how many businesses have that rating?"
   ]
  },
  {
   "cell_type": "code",
   "execution_count": null,
   "metadata": {},
   "outputs": [],
   "source": [
    "drp2 = Denver_data[(Denver_data['Buisness Rating'] != 5.0)].index\n",
    "DR   = len(Denver_data.drop(drp2,inplace=False))\n",
    "drp  = Boston_data[(Boston_data['Buisness Rating'] != 5.0)].index\n",
    "BR   = len(Boston_data.drop(drp,inplace=False))\n",
    "BR + DR"
   ]
  },
  {
   "cell_type": "markdown",
   "metadata": {},
   "source": [
    "3. What percentage of businesses have a rating greater than or equal to 4.5?"
   ]
  },
  {
   "cell_type": "code",
   "execution_count": null,
   "metadata": {},
   "outputs": [],
   "source": [
    "BL   = len(Boston_data)\n",
    "DL   = len(Denver_data)\n",
    "drp2 = Denver_data[(Denver_data['rating'] < 4.5)].index\n",
    "DR   = len(Denver_data.drop(drp2,inplace=False))\n",
    "drp2 = Boston_data[(Boston_data['rating'] < 4.5)].index\n",
    "BR   = len(Boston_data.drop(drp2,inplace=False))\n",
    "((BR+DR)/(BL+DL))*100"
   ]
  },
  {
   "cell_type": "markdown",
   "metadata": {},
   "source": [
    "4. What percentage of businesses have a rating less than 3?"
   ]
  },
  {
   "cell_type": "code",
   "execution_count": null,
   "metadata": {},
   "outputs": [],
   "source": [
    "BL   = len(Boston_data)\n",
    "DL   = len(Denver_data)\n",
    "drp2 = Denver_data[(Denver_data['rating'] >= 3.0)].index\n",
    "DR   = len(Denver_data.drop(drp2,inplace=False))\n",
    "drp2 = Boston_data[(Boston_data['rating'] >= 3.0)].index\n",
    "BR   = len(Boston_data.drop(drp2,inplace=False))\n",
    "((BR+DR)/(BL+DL))*100"
   ]
  },
  {
   "cell_type": "markdown",
   "metadata": {},
   "source": [
    "5. What percentage of your businesses have a price label of one dollar sign? Two dollar signs? Three dollar signs? No dollar signs?"
   ]
  },
  {
   "cell_type": "code",
   "execution_count": null,
   "metadata": {},
   "outputs": [],
   "source": [
    "Boston_data.sort_values('Price',ascending=False)\n",
    "Denver_data.sort_values('Price',ascending=False)\n",
    "Boston_data.dropna()  \n",
    "Denver_data.dropna()\n",
    "No_Price = ((BR+DR)/(BL+DL))*100\n",
    "print(No_Price)"
   ]
  },
  {
   "cell_type": "markdown",
   "metadata": {},
   "source": [
    "6. Return the text of the reviews for the most reviewed business."
   ]
  },
  {
   "cell_type": "code",
   "execution_count": null,
   "metadata": {},
   "outputs": [],
   "source": [
    "Boston_data1  = pd.read_csv('/Data/Final_Boston_Data.csv')\n",
    "Denver_data1  = pd.read_csv('/Data/Final_Denver_Data.csv')\n",
    "Boston_data1.sort_values('Review Count',ascending=False)\n",
    "Denver_data1.sort_values('Review Count',ascending=False)\n",
    "print(Boston_data1['Text'][0])\n",
    "print(Denver_data1['Text'][0])"
   ]
  },
  {
   "cell_type": "markdown",
   "metadata": {},
   "source": [
    "7. Find the highest rated business and return text of the most recent review. If multiple business have the same rating, select the business with the most reviews."
   ]
  },
  {
   "cell_type": "code",
   "execution_count": null,
   "metadata": {},
   "outputs": [],
   "source": [
    "Boston_data1.sort_values('Buisness Rating',ascending=False)\n",
    "Denver_data1.sort_values('Buisness Rating',ascending=False)\n",
    "print(Boston_data1['Text'][0])\n",
    "print(Denver_data1['Text'][0])"
   ]
  },
  {
   "cell_type": "markdown",
   "metadata": {},
   "source": [
    "8. Find the lowest rated business and return text of the most recent review.  If multiple business have the same rating, select the business with the least reviews."
   ]
  },
  {
   "cell_type": "code",
   "execution_count": null,
   "metadata": {},
   "outputs": [],
   "source": [
    "Boston_data1.sort_values('Buisness Rating',ascending=True)\n",
    "Denver_data1.sort_values('Buisness Rating',ascending=True)\n",
    "print(Boston_data1['Text'][0])\n",
    "print(Denver_data1['Text'][0])"
   ]
  }
 ],
 "metadata": {
  "kernelspec": {
   "display_name": "Python 3",
   "language": "python",
   "name": "python3"
  },
  "language_info": {
   "codemirror_mode": {
    "name": "ipython",
    "version": 3
   },
   "file_extension": ".py",
   "mimetype": "text/x-python",
   "name": "python",
   "nbconvert_exporter": "python",
   "pygments_lexer": "ipython3",
   "version": "3.8.5"
  }
 },
 "nbformat": 4,
 "nbformat_minor": 4
}
