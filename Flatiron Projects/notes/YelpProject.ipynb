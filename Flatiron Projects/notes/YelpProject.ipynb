{
 "cells": [
  {
   "cell_type": "code",
   "execution_count": null,
   "metadata": {},
   "outputs": [],
   "source": [
    "                                      ROAD MAP\n",
    "\n",
    "Business = 'Canabis Dispensary': \n",
    "    ('catagories'['shopping'])\n",
    "Location1 = 'Boston, MA':\n",
    "    ('location'['zip_code'])\n",
    "Location2 = 'Denver, CO':\n",
    "    ('location'['zip_code'])\n",
    "    \n",
    "DataBoston_Competitors =  ('/Competitors_Boston.csv')\n",
    "DataDenver_Competitors =  ('/Competitors_Denver.csv')\n",
    "        1: Canabis Dispensaries in area using Zip Code:\n",
    "                ('zip_code')\n",
    "            1a: Canabis Dispensaries in area using Radius:\n",
    "                ('radius'\n",
    "                [in '1 mile'  (1609.34)meters, \n",
    "                    '5 miles' (8046.72)meters, \n",
    "                    '10 miles'(16093.4)meters])\n",
    "            1b: Canabis Dispensaries Raitings:\n",
    "                ('sort_by',\n",
    "                ['raiting'])\n",
    "            1c: Canabis Dispensaries Opening Hours:\n",
    "                ('open_at'\n",
    "                [6  am, \n",
    "                 8  am, \n",
    "                 10 am])\n",
    "            1d: Canabis Dispensaries amenities:\n",
    "                ('atributes'\n",
    "                ['Street Parking',\n",
    "                'Private Lot Parking', \n",
    "                'Bike Parking',\n",
    "                'Wheelchair Accessible',\n",
    "                'Offers Military Discount',\n",
    "                'Open to All'])\n",
    "            1e: Canabis Dispensaries Price Rating:\n",
    "                ('price'\n",
    "                [returns 1-4])\n",
    "                \n",
    "DataBoston_GrowthPotential =  ('/GrowthPotential_Boston.csv') \n",
    "DataDenver_GrowthPotential =  ('/GrowthPotential_Denver.csv')\n",
    "        2: 'Liquor Stores' in area:\n",
    "            ('catagories'[''])\n",
    "            (measured in 'radius','zip_code')\n",
    "        3: 'Health Food Stores' in area:\n",
    "            ('catagories'[''])\n",
    "            (measured in 'radius','zip_code')\n",
    "            \n",
    "DataBoston_Substitutes =  ('/Substitutes_Boston.csv')\n",
    "DataDenver_Substitutes =  ('/Substitutes_Denver.csv')\n",
    "        4: 'Bars' in area:\n",
    "            ('catagories'[''])\n",
    "            (measured in 'radius','zip_code')\n",
    "        5: 'Juice Bars' in area:\n",
    "            ('catagories'[''])\n",
    "            (measured in 'radius','zip_code')\n",
    "        6: 'Yoga' and 'Meditation' in area:\n",
    "            ('catagories'[''])\n",
    "            (measured in 'radius','zip_code')\n",
    "            \n",
    "        Steps to Chart \n",
    "1: Location with fewest competitors (with other business 'radius'):\n",
    "['Scatter Plot']\n",
    "    1a: Competitor Ratings:\n",
    "    ['Pie Chart'], ['Scatter Plot with colors representing ratings']\n",
    "2: What exists and immediate competitive set:\n",
    "['Histogram']\n",
    "    2a: Features and Amenities (1b, 1c, 7):  \n",
    "    ['Bar Graph']\n",
    "3: Growth Potential(business we can steal passivly):\n",
    "['Pie Chart']\n",
    "4: Substitutes (2-6) presense and densiry in area:\n",
    "['Scatter Plot'],['Bar Graph'],['Line Graph'],['Histogram']\n"
   ]
  },
  {
   "cell_type": "code",
   "execution_count": 23,
   "metadata": {},
   "outputs": [],
   "source": [
    "import requests\n",
    "import json\n",
    "import sys\n",
    "import pandas as pd\n",
    "\n",
    "from  keys  import  client_id, api_key\n",
    "#from yelp_functions import *\n",
    "#import yelp_functions as yf"
   ]
  },
  {
   "cell_type": "code",
   "execution_count": 24,
   "metadata": {},
   "outputs": [],
   "source": [
    "# set the url and endpoint we want to hit\n",
    "url =  'https://api.yelp.com/v3/businesses/search'\n",
    "headers = {\n",
    "           'Authorization': 'Bearer {}'.format(api_key),\n",
    "          }"
   ]
  },
  {
   "cell_type": "code",
   "execution_count": 25,
   "metadata": {},
   "outputs": [],
   "source": [
    "# what type of business do you want to search\n",
    "term = 'Cannabis Dispensaries'\n",
    "# where do you want to perform this search\n",
    "location = 'Boston'\n",
    "# what is your other parameter you want to search against\n",
    "categories = \"shopping\""
   ]
  },
  {
   "cell_type": "code",
   "execution_count": 26,
   "metadata": {},
   "outputs": [],
   "source": [
    "# set url parameters\n",
    "url_params = {\n",
    "                \"term\": term.replace(' ', '+'),\n",
    "                \"location\": location.replace(' ', '+'),\n",
    "                \"categories\" : categories,\n",
    "                \"limit\": 50,    \n",
    "              }"
   ]
  },
  {
   "cell_type": "code",
   "execution_count": 27,
   "metadata": {},
   "outputs": [],
   "source": [
    "# set url data to 'response' variable\n",
    "response = requests.get(url, headers=headers, params=url_params)"
   ]
  },
  {
   "cell_type": "code",
   "execution_count": 6,
   "metadata": {},
   "outputs": [
    {
     "data": {
      "text/plain": [
       "200"
      ]
     },
     "execution_count": 6,
     "metadata": {},
     "output_type": "execute_result"
    }
   ],
   "source": [
    "# check that the connection works - should return '200'\n",
    "response.status_code"
   ]
  },
  {
   "cell_type": "code",
   "execution_count": 28,
   "metadata": {},
   "outputs": [],
   "source": [
    "# set 'response' url data as json 'data'\n",
    "data = response.json()"
   ]
  },
  {
   "cell_type": "code",
   "execution_count": 37,
   "metadata": {
    "scrolled": true
   },
   "outputs": [
    {
     "name": "stdout",
     "output_type": "stream",
     "text": [
      "[{'id': 'u-b799VicxtBk_Th5UNcLA', 'alias': 'bostons-caregivers-boston', 'name': 'Bostons Caregivers', 'image_url': 'https://s3-media1.fl.yelpcdn.com/bphoto/2O6da1JpjIUIuYd8oEuzZA/o.jpg', 'is_closed': False, 'url': 'https://www.yelp.com/biz/bostons-caregivers-boston?adjust_creative=tiRnOShn8Oe9yt6rp_MnPg&utm_campaign=yelp_api_v3&utm_medium=api_v3_business_search&utm_source=tiRnOShn8Oe9yt6rp_MnPg', 'review_count': 14, 'categories': [{'alias': 'cannabisdispensaries', 'title': 'Cannabis Dispensaries'}, {'alias': 'cannabis_clinics', 'title': 'Cannabis Clinics'}], 'rating': 3.5, 'coordinates': {'latitude': 42.3386, 'longitude': -71.07397}, 'transactions': [], 'location': {'address1': None, 'address2': None, 'address3': None, 'city': 'Boston', 'zip_code': '02118', 'country': 'US', 'state': 'MA', 'display_address': ['Boston, MA 02118']}, 'phone': '+19782105155', 'display_phone': '(978) 210-5155', 'distance': 1118.2955484698568}, {'id': '7VCypioiXhRPKx7hefFeFw', 'alias': 'sira-naturals-cambridge-cambridge', 'name': 'Sira Naturals- Cambridge', 'image_url': 'https://s3-media2.fl.yelpcdn.com/bphoto/2JSiV_hu4MsSrKst31rNGA/o.jpg', 'is_closed': False, 'url': 'https://www.yelp.com/biz/sira-naturals-cambridge-cambridge?adjust_creative=tiRnOShn8Oe9yt6rp_MnPg&utm_campaign=yelp_api_v3&utm_medium=api_v3_business_search&utm_source=tiRnOShn8Oe9yt6rp_MnPg', 'review_count': 15, 'categories': [{'alias': 'cannabisdispensaries', 'title': 'Cannabis Dispensaries'}], 'rating': 3.5, 'coordinates': {'latitude': 42.369563, 'longitude': -71.1112291}, 'transactions': [], 'price': '$$', 'location': {'address1': '1001 Massachusetts Ave', 'address2': '', 'address3': None, 'city': 'Cambridge', 'zip_code': '02138', 'country': 'US', 'state': 'MA', 'display_address': ['1001 Massachusetts Ave', 'Cambridge, MA 02138']}, 'phone': '+18444207243', 'display_phone': '(844) 420-7243', 'distance': 4077.7576400656726}, {'id': 'D8j6D9DKZ9Wq9rCBxoWvtw', 'alias': 'garden-remedies-newton-newton', 'name': 'Garden Remedies', 'image_url': 'https://s3-media3.fl.yelpcdn.com/bphoto/yZXvSKD7DU3tUQkbo0uEsw/o.jpg', 'is_closed': False, 'url': 'https://www.yelp.com/biz/garden-remedies-newton-newton?adjust_creative=tiRnOShn8Oe9yt6rp_MnPg&utm_campaign=yelp_api_v3&utm_medium=api_v3_business_search&utm_source=tiRnOShn8Oe9yt6rp_MnPg', 'review_count': 49, 'categories': [{'alias': 'cannabis_clinics', 'title': 'Cannabis Clinics'}, {'alias': 'cannabisdispensaries', 'title': 'Cannabis Dispensaries'}], 'rating': 2.5, 'coordinates': {'latitude': 42.35296, 'longitude': -71.20213}, 'transactions': [], 'price': '$$$', 'location': {'address1': '697 Washington St', 'address2': '', 'address3': None, 'city': 'Newton', 'zip_code': '02458', 'country': 'US', 'state': 'MA', 'display_address': ['697 Washington St', 'Newton, MA 02458']}, 'phone': '+18443442420', 'display_phone': '(844) 344-2420', 'distance': 10776.156992679247}, {'id': 'YMvKn0JC5stOQDbHpVSZvQ', 'alias': 'ethos-dispensary-watertown-watertown', 'name': 'Ethos Dispensary - Watertown', 'image_url': 'https://s3-media1.fl.yelpcdn.com/bphoto/vdwVGs5r8XwwhwATZFuKfQ/o.jpg', 'is_closed': False, 'url': 'https://www.yelp.com/biz/ethos-dispensary-watertown-watertown?adjust_creative=tiRnOShn8Oe9yt6rp_MnPg&utm_campaign=yelp_api_v3&utm_medium=api_v3_business_search&utm_source=tiRnOShn8Oe9yt6rp_MnPg', 'review_count': 2, 'categories': [{'alias': 'cannabis_clinics', 'title': 'Cannabis Clinics'}, {'alias': 'cannabisdispensaries', 'title': 'Cannabis Dispensaries'}, {'alias': 'cannabiscollective', 'title': 'Cannabis Collective'}], 'rating': 5.0, 'coordinates': {'latitude': 42.363395, 'longitude': -71.155588}, 'transactions': [], 'location': {'address1': '23 Elm St', 'address2': None, 'address3': '', 'city': 'Watertown', 'zip_code': '02472', 'country': 'US', 'state': 'MA', 'display_address': ['23 Elm St', 'Watertown, MA 02472']}, 'phone': '+16179102595', 'display_phone': '(617) 910-2595', 'distance': 7141.535149207471}, {'id': 'EVxWSR-1hUQP2KxSrPCx2g', 'alias': 'mayflower-boston', 'name': 'Mayflower', 'image_url': 'https://s3-media4.fl.yelpcdn.com/bphoto/MgoVVbpx-xIdm_TPskMVCQ/o.jpg', 'is_closed': False, 'url': 'https://www.yelp.com/biz/mayflower-boston?adjust_creative=tiRnOShn8Oe9yt6rp_MnPg&utm_campaign=yelp_api_v3&utm_medium=api_v3_business_search&utm_source=tiRnOShn8Oe9yt6rp_MnPg', 'review_count': 7, 'categories': [{'alias': 'vitaminssupplements', 'title': 'Vitamins & Supplements'}, {'alias': 'cannabis_clinics', 'title': 'Cannabis Clinics'}], 'rating': 2.5, 'coordinates': {'latitude': 42.34907, 'longitude': -71.1296}, 'transactions': [], 'location': {'address1': '230 Harvard Ave', 'address2': None, 'address3': '', 'city': 'Boston', 'zip_code': '02134', 'country': 'US', 'state': 'MA', 'display_address': ['230 Harvard Ave', 'Boston, MA 02134']}, 'phone': '+15083566600', 'display_phone': '(508) 356-6600', 'distance': 4797.926488059213}, {'id': 'egW6owf70SGefsOnU9fSgw', 'alias': 'fine-fettle-dispensary-rowley-rowley', 'name': 'Fine Fettle Dispensary - Rowley', 'image_url': 'https://s3-media2.fl.yelpcdn.com/bphoto/nSMvxaCbmhLu32CCYCyxzw/o.jpg', 'is_closed': False, 'url': 'https://www.yelp.com/biz/fine-fettle-dispensary-rowley-rowley?adjust_creative=tiRnOShn8Oe9yt6rp_MnPg&utm_campaign=yelp_api_v3&utm_medium=api_v3_business_search&utm_source=tiRnOShn8Oe9yt6rp_MnPg', 'review_count': 1, 'categories': [{'alias': 'cannabisdispensaries', 'title': 'Cannabis Dispensaries'}, {'alias': 'cannabis_clinics', 'title': 'Cannabis Clinics'}], 'rating': 5.0, 'coordinates': {'latitude': 42.700777, 'longitude': -70.911141}, 'transactions': [], 'location': {'address1': '116 Newburyport Turnpike', 'address2': None, 'address3': '', 'city': 'Rowley', 'zip_code': '01969', 'country': 'US', 'state': 'MA', 'display_address': ['116 Newburyport Turnpike', 'Rowley, MA 01969']}, 'phone': '+19784322147', 'display_phone': '(978) 432-2147', 'distance': 41379.667771252985}, {'id': 'mNW5BdOHOg3_16xKZbKz8g', 'alias': 'sira-naturals-somerville-somerville', 'name': 'Sira Naturals- Somerville', 'image_url': 'https://s3-media3.fl.yelpcdn.com/bphoto/-EoUBZxI0cwQue4SFesUpA/o.jpg', 'is_closed': False, 'url': 'https://www.yelp.com/biz/sira-naturals-somerville-somerville?adjust_creative=tiRnOShn8Oe9yt6rp_MnPg&utm_campaign=yelp_api_v3&utm_medium=api_v3_business_search&utm_source=tiRnOShn8Oe9yt6rp_MnPg', 'review_count': 20, 'categories': [{'alias': 'cannabisdispensaries', 'title': 'Cannabis Dispensaries'}], 'rating': 3.0, 'coordinates': {'latitude': 42.39494, 'longitude': -71.12212}, 'transactions': [], 'location': {'address1': '240 Elm St', 'address2': '', 'address3': None, 'city': 'Somerville', 'zip_code': '02144', 'country': 'US', 'state': 'MA', 'display_address': ['240 Elm St', 'Somerville, MA 02144']}, 'phone': '+18664207472', 'display_phone': '(866) 420-7472', 'distance': 6700.50809032891}, {'id': 'p7g-jlaHoFS8zYKe-UwHGA', 'alias': 'insa-salem-salem-2', 'name': 'Insa - Salem', 'image_url': 'https://s3-media4.fl.yelpcdn.com/bphoto/5et0RdjOChAezzZ-RtONGw/o.jpg', 'is_closed': False, 'url': 'https://www.yelp.com/biz/insa-salem-salem-2?adjust_creative=tiRnOShn8Oe9yt6rp_MnPg&utm_campaign=yelp_api_v3&utm_medium=api_v3_business_search&utm_source=tiRnOShn8Oe9yt6rp_MnPg', 'review_count': 23, 'categories': [{'alias': 'cannabisdispensaries', 'title': 'Cannabis Dispensaries'}, {'alias': 'cannabis_clinics', 'title': 'Cannabis Clinics'}], 'rating': 2.5, 'coordinates': {'latitude': 42.49301, 'longitude': -70.93485}, 'transactions': [], 'location': {'address1': '462 Highland Ave', 'address2': None, 'address3': '', 'city': 'Salem', 'zip_code': '01970', 'country': 'US', 'state': 'MA', 'display_address': ['462 Highland Ave', 'Salem, MA 01970']}, 'phone': '+19789041043', 'display_phone': '(978) 904-1043', 'distance': 19643.932407972385}, {'id': 'l7sbLs9rU5pSumc3ptJvRg', 'alias': 'the-hempest-boston', 'name': 'The Hempest', 'image_url': 'https://s3-media4.fl.yelpcdn.com/bphoto/A7OaxebbryYpOuSD8CeStQ/o.jpg', 'is_closed': False, 'url': 'https://www.yelp.com/biz/the-hempest-boston?adjust_creative=tiRnOShn8Oe9yt6rp_MnPg&utm_campaign=yelp_api_v3&utm_medium=api_v3_business_search&utm_source=tiRnOShn8Oe9yt6rp_MnPg', 'review_count': 31, 'categories': [{'alias': 'menscloth', 'title': \"Men's Clothing\"}, {'alias': 'womenscloth', 'title': \"Women's Clothing\"}, {'alias': 'accessories', 'title': 'Accessories'}], 'rating': 4.0, 'coordinates': {'latitude': 42.349072, 'longitude': -71.085407}, 'transactions': [], 'price': '$$$', 'location': {'address1': '301 Newbury St', 'address2': '', 'address3': '', 'city': 'Boston', 'zip_code': '02115', 'country': 'US', 'state': 'MA', 'display_address': ['301 Newbury St', 'Boston, MA 02115']}, 'phone': '+16174219944', 'display_phone': '(617) 421-9944', 'distance': 1171.9831776614064}]\n"
     ]
    }
   ],
   "source": [
    "# check data keys\n",
    "data.keys()\n",
    "# check amount of results qurried\n",
    "#data['total']\n",
    "# check number of businesses returned from API call\n",
    "#print(data['businesses'])"
   ]
  },
  {
   "cell_type": "code",
   "execution_count": 41,
   "metadata": {},
   "outputs": [
    {
     "ename": "AttributeError",
     "evalue": "'Response' object has no attribute 'shape'",
     "output_type": "error",
     "traceback": [
      "\u001b[0;31m---------------------------------------------------------------------------\u001b[0m",
      "\u001b[0;31mAttributeError\u001b[0m                            Traceback (most recent call last)",
      "\u001b[0;32m<ipython-input-41-7e37c6d67899>\u001b[0m in \u001b[0;36m<module>\u001b[0;34m\u001b[0m\n\u001b[1;32m      5\u001b[0m     \u001b[0;31m# return json file from yelp api for all businesses\u001b[0m\u001b[0;34m\u001b[0m\u001b[0;34m\u001b[0m\u001b[0;34m\u001b[0m\u001b[0m\n\u001b[1;32m      6\u001b[0m     \u001b[0;32mreturn\u001b[0m \u001b[0mresponse\u001b[0m\u001b[0;34m.\u001b[0m\u001b[0mjson\u001b[0m\u001b[0;34m(\u001b[0m\u001b[0;34m)\u001b[0m\u001b[0;34m[\u001b[0m\u001b[0;34m'businesses'\u001b[0m\u001b[0;34m]\u001b[0m\u001b[0;34m\u001b[0m\u001b[0;34m\u001b[0m\u001b[0m\n\u001b[0;32m----> 7\u001b[0;31m \u001b[0mresponse\u001b[0m\u001b[0;34m.\u001b[0m\u001b[0mshape\u001b[0m\u001b[0;34m\u001b[0m\u001b[0;34m\u001b[0m\u001b[0m\n\u001b[0m",
      "\u001b[0;31mAttributeError\u001b[0m: 'Response' object has no attribute 'shape'"
     ]
    }
   ],
   "source": [
    "# call yelp api\n",
    "def yelp_call(url_params, api_key):\n",
    "    # use .get() to call url and set 'response'\n",
    "    response = requests.get(url, headers=headers, params=url_params)\n",
    "    # return json file from yelp api for all businesses\n",
    "    return response.json()['businesses']\n",
    "response.shape"
   ]
  },
  {
   "cell_type": "code",
   "execution_count": 36,
   "metadata": {},
   "outputs": [],
   "source": [
    "# parse yelp data according to parameters\n",
    "def parse_data_comp_boston(data):\n",
    "    # create a container to hold our parsed data\n",
    "    businesses = []\n",
    "    # loop through our business  \n",
    "    for business in data:\n",
    "        # parse each individual business into a tuple\n",
    "        biz_tuple = (\n",
    "                    business['name'],\n",
    "                    business['location']['zip_code'],\n",
    "                    business['rating']\n",
    "                    #business['price'],\n",
    "                    #business['open_at'],\n",
    "                    #business['atributes']['Street Parking',\n",
    "                     #                     'Private Lot Parking', \n",
    "                      #                    'Bike Parking',\n",
    "                       #                   'Wheelchair Accessible',\n",
    "                        #                  'Offers Military Discount',\n",
    "                         #                 'Open to All']\n",
    "                    )\n",
    "\n",
    "        # add each individual business tuple to our data container\n",
    "        businesses.append(biz_tuple)\n",
    "        # put parsed result into DataFrame 'results'\n",
    "        parsed_results = parse_data(data['businesses'])\n",
    "        results = pd.DataFrame(parsed_results)\n",
    "    print(businesses)\n",
    "        # name DataFrame columns\n",
    "        #results.columns = ['name', 'zipcode', 'rating', 'price', 'open_at', \n",
    "        #                   'Street Parking','Private Lot Parking', 'Bike Parking', \n",
    "         #                  'Wheelchair Accessible','Offers Military Discount', 'Open to All'\n",
    "          #                ]\n",
    "    # return the container with all of the parsed results and save file as csv\n",
    "    #results.to_csv('Competitors_Boston.csv')\n",
    "    #return"
   ]
  },
  {
   "cell_type": "code",
   "execution_count": null,
   "metadata": {},
   "outputs": [],
   "source": [
    "# put parsed result into DataFrame 'results'\n",
    "parsed_results = parse_data(data['businesses'])\n",
    "results = pd.DataFrame(parsed_results)\n",
    "# name DataFrame columns\n",
    "results.columns = ['name', 'zipcode', 'rating', 'price', 'open_at', \n",
    "                   'Street Parking','Private Lot Parking', 'Bike Parking', \n",
    "                   'Wheelchair Accessible','Offers Military Discount', 'Open to All'\n",
    "                  ]\n",
    "# save file as csv 'yb_data'\n",
    "results.to_csv('Competitors_Boston.csv')"
   ]
  },
  {
   "cell_type": "code",
   "execution_count": null,
   "metadata": {},
   "outputs": [],
   "source": [
    "timetable = { \n",
    "            'day' : ['mon','tues','wed','thurs','fri', 'sat'],\n",
    "            'No_classes' : [4, 5, 6, 3, 3, 2],\n",
    "            'free_periods' : [3, 4, 5, 6, 1, 2]\n",
    "}\n",
    "#make a dataframe as df\n",
    "df = pd.DataFrame(timetable)\n",
    "#save the data to a csv_file.\n",
    "df.to_csv('filename.csv')"
   ]
  },
  {
   "cell_type": "code",
   "execution_count": null,
   "metadata": {},
   "outputs": [],
   "source": [
    "# open the csv file, concat the current data, and save the data.\n",
    "def df_save_comp_boston(\"/Competitors_Boston.csv\", results):\n",
    "    # open csv as DataFrame 1\n",
    "    yb_data = pd.read_csv(r\"/Competitors_Boston.csv\")    \n",
    "    # concat results into previous DataFrame\n",
    "    yb_data = pd.concat([yb_data, results]    \n",
    "    # save file as csv\n",
    "    yb_data.to_csv(\"/Competitors_Boston.csv\")"
   ]
  },
  {
   "cell_type": "code",
   "execution_count": null,
   "metadata": {},
   "outputs": [],
   "source": [
    "# Run yelp_call\n",
    "yf.yelp_call()\n",
    "# Run parse_data\n",
    "yf.parse_data()\n",
    "# Run df_save\n",
    "yf.df_save()"
   ]
  },
  {
   "cell_type": "code",
   "execution_count": null,
   "metadata": {},
   "outputs": [],
   "source": [
    "# Python file making API call to Yelp and storing results in 'yb_data.csv'\n",
    "\n",
    "# create a variable  to keep track of which result you are in. \n",
    "cur = 0\n",
    "num = len(df) + 1\n",
    "# set up a while loop to go through and grab the result \n",
    "while cur < num and cur < 1000:\n",
    "    # set the offset parameter to be where you currently are in the results \n",
    "    cur = url_params['offset']\n",
    "    # make your API call with the new offset number\n",
    "    results = yf.yelp_call()\n",
    "    # after you get your results you can now use your function to parse those results\n",
    "    parse_data = yf.parse_data()\n",
    "    # use your function to insert your parsed results into the db\n",
    "    yf.df_save()\n",
    "    # increment the counter by 50 to move on to the next results\n",
    "    cur += 50"
   ]
  }
 ],
 "metadata": {
  "kernelspec": {
   "display_name": "Python 3",
   "language": "python",
   "name": "python3"
  },
  "language_info": {
   "codemirror_mode": {
    "name": "ipython",
    "version": 3
   },
   "file_extension": ".py",
   "mimetype": "text/x-python",
   "name": "python",
   "nbconvert_exporter": "python",
   "pygments_lexer": "ipython3",
   "version": "3.8.5"
  }
 },
 "nbformat": 4,
 "nbformat_minor": 4
}
