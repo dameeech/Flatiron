{
 "cells": [
  {
   "cell_type": "code",
   "execution_count": 1,
   "metadata": {},
   "outputs": [],
   "source": [
    "import requests\n",
    "import json\n",
    "import sys\n",
    "import pandas as pd\n",
    "import numpy as np\n",
    "\n",
    "from  keys  import  client_id, api_key\n",
    "#import Yelp_Helper_Functions as yf"
   ]
  },
  {
   "cell_type": "markdown",
   "metadata": {},
   "source": [
    "Set the URL and headers for authorization including api key"
   ]
  },
  {
   "cell_type": "code",
   "execution_count": 2,
   "metadata": {},
   "outputs": [],
   "source": [
    "# set the url and endpoint we want to hit\n",
    "url        = 'https://api.yelp.com/v3/businesses/search'\n",
    "headers    = {\n",
    "             'Authorization': 'Bearer {}'.format(api_key),\n",
    "             }\n",
    "# what type of business do you want to search\n",
    "term       = 'bars'\n",
    "# where do you want to perform this search\n",
    "location   = 'Denver'\n",
    "# what is your other parameter you want to search against\n",
    "categories = 'restaurants'\n",
    "# set url parameters\n",
    "url_params = {\n",
    "                \"term\"       : term.replace(' ', '+'),\n",
    "                \"location\"   : location.replace(' ', '+'),\n",
    "                \"categories\" : categories,\n",
    "                \"limit\"      : 50,\n",
    "                \"offset\"     : 0\n",
    "              }\n",
    "response   = requests.get(url, headers=headers, params=url_params)"
   ]
  },
  {
   "cell_type": "code",
   "execution_count": null,
   "metadata": {},
   "outputs": [],
   "source": []
  },
  {
   "cell_type": "code",
   "execution_count": 3,
   "metadata": {},
   "outputs": [],
   "source": [
    "# call yelp api\n",
    "def yelp_call(url_params, api_key):\n",
    "    # use .get() to call url and set to 'response'\n",
    "    response = requests.get(url, headers=headers, params=url_params)\n",
    "    # return json file from yelp api for all businesses\n",
    "    return response.json()['businesses']"
   ]
  },
  {
   "cell_type": "code",
   "execution_count": 4,
   "metadata": {},
   "outputs": [],
   "source": [
    "# parse yelp data according to parameters\n",
    "def parse_data(list_of_data):\n",
    "    # create a container to hold our parsed data\n",
    "    businesses = []\n",
    "    # loop through our business  \n",
    "    for business in list_of_data:\n",
    "        # if 'price' is missing add nan value\n",
    "        if 'price' not in business.keys():\n",
    "            business['price'] = np.nan\n",
    "        if 'delivery' in business['transactions']:\n",
    "            business['delivery'] = True\n",
    "        else:\n",
    "            business['delivery'] = False\n",
    "        # parse each individual business into a tuple\n",
    "        biz_tuple = (business['id'],\n",
    "                     business['name'],\n",
    "                     business['location']['zip_code'],\n",
    "                     business['rating'],\n",
    "                     business['review_count'],\n",
    "                     business['categories'][0]['alias'],\n",
    "                     business['delivery'],\n",
    "                     business['distance'],\n",
    "                     business['price']\n",
    "                    )\n",
    "        # add each individual business tuple to our data container\n",
    "        businesses.append(biz_tuple)\n",
    "    # return the container with all of the parsed results\n",
    "    return businesses"
   ]
  },
  {
   "cell_type": "code",
   "execution_count": 5,
   "metadata": {},
   "outputs": [],
   "source": [
    "# open the csv file, concat the current data, and save the data.\n",
    "def df_save(yb_data, parse_data):\n",
    "    # concat results into previous DataFrame\n",
    "    yb_data = pd.concat([yb_data, parse_data], axis='rows')  \n",
    "    # save file as csv\n",
    "    yb_data.to_csv(\"Bars_Denver.csv\",\n",
    "                   mode='a', index=False, header=False)\n",
    "    return"
   ]
  },
  {
   "cell_type": "code",
   "execution_count": 6,
   "metadata": {},
   "outputs": [],
   "source": [
    "# Python file making API call to Yelp and storing results in 'yb_data.csv'\n",
    "# create a variable  to keep track of which result you are in. \n",
    "cur     = 0\n",
    "num     = 1000\n",
    "# create empty DataFrame called yb_data\n",
    "yb_data = []\n",
    "yb_data = pd.DataFrame(yb_data)\n",
    "# write empty DataFrame to csv\n",
    "yb_data.to_csv(\"Bars_Denver.csv\", \n",
    "               index_label=['id', 'Name', 'Zip Code', \n",
    "                            'Buisness Rating', 'Review Count',\n",
    "                            'Categories', 'Delivery', \n",
    "                            'Distance', 'Price'])\n",
    "# set up a while loop to go through and grab the result \n",
    "while cur < num :\n",
    "    # set the offset parameter to be where you currently are in the results \n",
    "    url_params['offset'] = cur\n",
    "    # make your API call with the new offset number\n",
    "    results     = yelp_call(url_params, api_key)\n",
    "    # after you get your results you can now use your function to parse those results\n",
    "    parsed_data = parse_data(results)\n",
    "    # convert parsed results into a DataFrame\n",
    "    parsed_data = pd.DataFrame(parsed_data)\n",
    "    # use your function to insert your parsed results into the csv\n",
    "    df_save(yb_data, parsed_data)\n",
    "    # increment the counter by 50 to move on to the next results\n",
    "    cur += 50"
   ]
  },
  {
   "cell_type": "code",
   "execution_count": null,
   "metadata": {},
   "outputs": [],
   "source": []
  }
 ],
 "metadata": {
  "kernelspec": {
   "display_name": "Python 3",
   "language": "python",
   "name": "python3"
  },
  "language_info": {
   "codemirror_mode": {
    "name": "ipython",
    "version": 3
   },
   "file_extension": ".py",
   "mimetype": "text/x-python",
   "name": "python",
   "nbconvert_exporter": "python",
   "pygments_lexer": "ipython3",
   "version": "3.8.5"
  }
 },
 "nbformat": 4,
 "nbformat_minor": 4
}
